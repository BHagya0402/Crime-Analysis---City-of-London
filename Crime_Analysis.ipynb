{
 "cells": [
  {
   "cell_type": "markdown",
   "id": "e0d0776e-5435-436c-beed-4ff375ccb16c",
   "metadata": {},
   "source": [
    "# Spatial Analysis of crime patterns in the city of London to identify and predict the vulnerable areas in the city."
   ]
  },
  {
   "cell_type": "markdown",
   "id": "0269f038-38fa-43f1-9848-754ba0af2e86",
   "metadata": {},
   "source": [
    "**Data**\n",
    "\n",
    "Crime data: https://data.police.uk/data/\n",
    "\n",
    "London Boundary: : https://data.london.gov.uk/dataset/london_boroughs "
   ]
  },
  {
   "cell_type": "code",
   "execution_count": null,
   "id": "a1328668-5be3-45d4-9d3b-9aa9ee6a96a6",
   "metadata": {},
   "outputs": [],
   "source": [
    "import pandas as pd\n",
    "import os\n",
    "import geopandas as gpd\n",
    "import matplotlib.pyplot as plt\n",
    "import seaborn as sns\n",
    "import pyproj\n",
    "import contextily as cx\n",
    "import folium\n",
    "from folium.plugins import MarkerCluster\n",
    "from sklearn.model_selection import train_test_split"
   ]
  },
  {
   "cell_type": "markdown",
   "id": "42708472-3b57-485a-89e0-4e6c4225c66e",
   "metadata": {},
   "source": [
    "## Data download and Exploratory data analysis"
   ]
  },
  {
   "cell_type": "code",
   "execution_count": null,
   "id": "b0389a72-1494-4c39-9dda-a65a1305e6be",
   "metadata": {},
   "outputs": [],
   "source": [
    "# Specify the folder containing the CSV files\n",
    "folder_path = \"Crime_data\"\n",
    "\n",
    "# List all files in the folder that match the pattern\n",
    "file_paths = [os.path.join(folder_path, file) for file in os.listdir(folder_path) if file.endswith(\".csv\")]\n",
    "\n",
    "# Read and concatenate all CSV files\n",
    "data = [pd.read_csv(file) for file in file_paths]\n",
    "\n",
    "# Combine all the data into a single DataFrame\n",
    "Crime_data = pd.concat(data, ignore_index=True)"
   ]
  },
  {
   "cell_type": "code",
   "execution_count": null,
   "id": "0b9d7dc1-1694-42ec-9810-0fdc75a082c2",
   "metadata": {},
   "outputs": [],
   "source": [
    "Crime_data.shape"
   ]
  },
  {
   "cell_type": "markdown",
   "id": "8fe436a4-3fe5-48ab-91b5-4fb0888dde1e",
   "metadata": {},
   "source": [
    "There were 24158 crimes reported in the city of London. To view the variables of the data, the **. head()**, **.columns** and **.info()** commands are used. This gives the description of all the columns and their data type (type)."
   ]
  },
  {
   "cell_type": "code",
   "execution_count": null,
   "id": "c47fd423-be69-419f-a42a-170c449197e5",
   "metadata": {},
   "outputs": [],
   "source": [
    "Crime_data.head()"
   ]
  },
  {
   "cell_type": "code",
   "execution_count": null,
   "id": "04288616-eb51-4561-813b-92a00734917d",
   "metadata": {},
   "outputs": [],
   "source": [
    "Crime_data.columns"
   ]
  },
  {
   "cell_type": "code",
   "execution_count": null,
   "id": "176f658a-c56b-46cf-816e-d3e850062fd8",
   "metadata": {},
   "outputs": [],
   "source": [
    "Crime_data.info()"
   ]
  },
  {
   "cell_type": "code",
   "execution_count": null,
   "id": "b9f811b5-5fe6-48ce-a403-1c42ac60bc91",
   "metadata": {},
   "outputs": [],
   "source": [
    "Crime_data = Crime_data.drop(['Crime ID','Reported by', 'Falls within', 'Location', 'Last outcome category', 'Context'], axis=1)"
   ]
  },
  {
   "cell_type": "code",
   "execution_count": null,
   "id": "039bb34f-7ad5-49bc-9002-e9554e7b3c3e",
   "metadata": {},
   "outputs": [],
   "source": [
    "Crime_data.isnull().sum()"
   ]
  },
  {
   "cell_type": "code",
   "execution_count": null,
   "id": "2778164f-729f-4741-8bc0-1dddac36a6c3",
   "metadata": {},
   "outputs": [],
   "source": [
    "Crime_data = Crime_data.dropna()\n",
    "Crime_data.isnull().sum()"
   ]
  },
  {
   "cell_type": "code",
   "execution_count": null,
   "id": "77e3499e-322b-440c-a4ab-d486d1a1dde5",
   "metadata": {},
   "outputs": [],
   "source": [
    "Crime_data[\"Crime type\"].value_counts()"
   ]
  },
  {
   "cell_type": "markdown",
   "id": "a0d1fc3a-d6ee-48f2-a218-5db973fc185b",
   "metadata": {},
   "source": [
    "The above code .value_counts() is used to study the types of crimes in London. In London, the most predominant crime is theft. 7,672 cases of all kinds of theft were reported from 2021-2023, and this number is followed by violence and sexual offences with 3931 cases. Anti-social behaviour, drugs, and public order were also significant in the city of London. "
   ]
  },
  {
   "cell_type": "code",
   "execution_count": null,
   "id": "292ed900-87b0-43b6-b807-6eb255583444",
   "metadata": {},
   "outputs": [],
   "source": [
    "Crime_data.info()"
   ]
  },
  {
   "cell_type": "code",
   "execution_count": null,
   "id": "90581ae0-c464-4052-abbe-1c8454556e07",
   "metadata": {},
   "outputs": [],
   "source": [
    "Crime_data[[\"Year\", \"Month\"]] = Crime_data['Month'].str.split('-', expand=True)"
   ]
  },
  {
   "cell_type": "code",
   "execution_count": null,
   "id": "0ce5d470-03c6-434d-95d9-4afb57901765",
   "metadata": {},
   "outputs": [],
   "source": [
    "# Convert 'Year' and 'Month' columns to numeric \n",
    "Crime_data['Year'] = pd.to_numeric(Crime_data['Year'])\n",
    "Crime_data['Month'] = pd.to_numeric(Crime_data['Month'])\n",
    "# \n",
    "Crime_data.head(3)"
   ]
  },
  {
   "cell_type": "code",
   "execution_count": null,
   "id": "30d90033-c0b9-4a46-ab30-8cc272a96e7c",
   "metadata": {},
   "outputs": [],
   "source": [
    "Crime_data['Year'].value_counts()"
   ]
  },
  {
   "cell_type": "code",
   "execution_count": null,
   "id": "79e07cb9-2d38-44c6-82b8-e527d6749282",
   "metadata": {},
   "outputs": [],
   "source": [
    "# Plot crime type and year\n",
    "plt.figure(figsize=(12, 6))# setting the width, height of the figure\n",
    "# create a count plot using Seaborn\n",
    "sns.countplot(x='Crime type', hue='Year', data=Crime_data)\n",
    "# Adding the plot title\n",
    "plt.title('Crime Type Distribution from 2021-2023')\n",
    "# Adding x lables\n",
    "plt.xticks(rotation= 90)\n",
    "# Add legend\n",
    "plt.legend(title='Year', bbox_to_anchor=(1.05, 1), loc='upper left')\n",
    "plt.tight_layout()\n",
    "plt.show()"
   ]
  },
  {
   "cell_type": "code",
   "execution_count": null,
   "id": "63a51776-a011-4ee4-a82a-fec2f5727000",
   "metadata": {},
   "outputs": [],
   "source": [
    "Crimes_monthly = Crime_data.sort_values(by = ['Month'])\n",
    "Crimes_monthly = Crime_data.groupby(['Month']).size().reset_index(name='Count')\n",
    "Crimes_monthly"
   ]
  },
  {
   "cell_type": "code",
   "execution_count": null,
   "id": "ca7e8037-c210-4cbe-ba0f-f472a01f1cf8",
   "metadata": {},
   "outputs": [],
   "source": [
    "London = gpd.read_file('London_boundary/London_Borough_Excluding_MHW.shp')"
   ]
  },
  {
   "cell_type": "code",
   "execution_count": null,
   "id": "7099c8dd-9ad0-424b-b568-99aad72114ea",
   "metadata": {},
   "outputs": [],
   "source": [
    "London.head(3)"
   ]
  },
  {
   "cell_type": "code",
   "execution_count": null,
   "id": "85475807-2d39-4847-875f-c2970430b8d3",
   "metadata": {},
   "outputs": [],
   "source": [
    "City_of_London = London.loc[London.NAME == 'City of London']\n",
    "City_of_London.boundary.plot()"
   ]
  },
  {
   "cell_type": "code",
   "execution_count": null,
   "id": "0008370d-fc45-43e8-968a-7a1e17a33c20",
   "metadata": {
    "scrolled": true
   },
   "outputs": [],
   "source": [
    "City_of_London.crs"
   ]
  },
  {
   "cell_type": "code",
   "execution_count": null,
   "id": "b8fe405a-2c5e-4bf0-9896-cd79591adbb4",
   "metadata": {},
   "outputs": [],
   "source": [
    "# Define the source and target coordinate reference systems\n",
    "source_crs = pyproj.CRS(\"EPSG:4326\")  # WGS84, standard for latitude and longitude\n",
    "target_crs = pyproj.CRS(\"EPSG:27700\")  # Replace '27700' with the EPSG code of your target CRS\n",
    "\n",
    "# Create a Transformer\n",
    "transformer = pyproj.Transformer.from_crs(source_crs, target_crs, always_xy=True)\n",
    "\n",
    "# Define a function to apply the transformation to each row\n",
    "def transform_coordinates(row):\n",
    "    x, y = transformer.transform(row['Longitude'], row['Latitude'])\n",
    "    return pd.Series({'X': x, 'Y': y})\n",
    "\n",
    "# Apply the transformation to the entire DataFrame\n",
    "Crime_data[['X', 'Y']] = Crime_data.apply(transform_coordinates, axis=1)"
   ]
  },
  {
   "cell_type": "code",
   "execution_count": null,
   "id": "3096b70c-4c36-462f-9033-9630677b4252",
   "metadata": {},
   "outputs": [],
   "source": [
    "crime_data_loc = gpd.GeoDataFrame(Crime_data, geometry=gpd.points_from_xy(Crime_data['X'], Crime_data['Y']))\n",
    "crime_data_loc.head()"
   ]
  },
  {
   "cell_type": "code",
   "execution_count": null,
   "id": "8f103576-783e-4009-adcf-0b05f985f128",
   "metadata": {},
   "outputs": [],
   "source": [
    "crime_data_loc.crs = City_of_London.crs"
   ]
  },
  {
   "cell_type": "code",
   "execution_count": null,
   "id": "5ebc1a1b-5a99-48f6-946d-59f5083c7a4c",
   "metadata": {},
   "outputs": [],
   "source": [
    "crime_data_loc.crs"
   ]
  },
  {
   "cell_type": "code",
   "execution_count": null,
   "id": "074df187-0512-4259-bc9e-17054cc56429",
   "metadata": {},
   "outputs": [],
   "source": [
    "# Plot boundary and points together\n",
    "fig, ax = plt.subplots(figsize=(10, 10))\n",
    "City_of_London.boundary.plot(ax=ax, color='blue', label='City of London Boundary')  # Plot the boundary\n",
    "crime_data_loc.plot(ax=ax, markersize=5, color='red', label='Crime Data')  # Plot crime data locations\n",
    "\n",
    "# Add legend and title\n",
    "plt.legend()\n",
    "plt.title('City of London Crime Locations')\n",
    "plt.xlabel('Longitude')\n",
    "plt.ylabel('Latitude')\n",
    "\n",
    "plt.show()"
   ]
  },
  {
   "cell_type": "code",
   "execution_count": null,
   "id": "28691c87-9874-4588-98be-804f8c03e98f",
   "metadata": {},
   "outputs": [],
   "source": [
    "London_city_crimes = gpd.clip(crime_data_loc, City_of_London)"
   ]
  },
  {
   "cell_type": "code",
   "execution_count": null,
   "id": "1fa6a41f-69a9-49ca-b325-96f0e5cf3870",
   "metadata": {},
   "outputs": [],
   "source": [
    "# Plot boundary and points together\n",
    "fig, ax = plt.subplots(figsize=(10, 10))\n",
    "City_of_London.boundary.plot(ax=ax, color='black', label='City of London Boundary')  # Plot the boundary\n",
    "London_city_crimes.plot(ax=ax, markersize=5, color='red', label='Crime Data')  # Plot crime data locations\n",
    "cx.add_basemap(ax, crs=City_of_London.crs, source=cx.providers.OpenStreetMap.Mapnik)\n",
    "# Add legend and title\n",
    "plt.legend()\n",
    "plt.title('City of London Crime Locations')\n",
    "plt.xlabel('Longitude')\n",
    "plt.ylabel('Latitude')\n",
    "\n",
    "plt.show()"
   ]
  },
  {
   "cell_type": "markdown",
   "id": "0b748913-0184-423d-98bc-da535f17e907",
   "metadata": {},
   "source": [
    "## Identifying Crime Hotspots"
   ]
  },
  {
   "cell_type": "markdown",
   "id": "be02b8fb-4646-4df4-8946-d995d04cf77f",
   "metadata": {},
   "source": [
    "Crimes in the city are not speard symmetrically throughout the city landscape (Braga et al., 2012). The areas with High concentration of crimes are considered as “hotspots” (Wang et al., 2013) or the vulnerable areas. The locations with threshold crime 50 and 150 are considered are crime hotspots. These locations clusters are created using MarkerCluster, this gives points(locations) on the crime map by grouping the surrounding areas into clusters. "
   ]
  },
  {
   "cell_type": "code",
   "execution_count": null,
   "id": "8416bad7-5704-4a84-8127-770c556e88fd",
   "metadata": {},
   "outputs": [],
   "source": [
    "# crime count for each location and crime type\n",
    "London_crime_counts = London_city_crimes.groupby(['Latitude', 'Longitude', 'LSOA code' ]).size().reset_index(name='Count')\n",
    "London_crime_counts "
   ]
  },
  {
   "cell_type": "markdown",
   "id": "3f817014-32e9-40f4-a64d-5987b38dee1c",
   "metadata": {},
   "source": [
    "**Analyzing Areas with more than Threshold of 50 and 150 Cirmes**"
   ]
  },
  {
   "cell_type": "code",
   "execution_count": null,
   "id": "6dfc8b56-0c85-4843-aea8-ef700b9d72dc",
   "metadata": {},
   "outputs": [],
   "source": [
    "threshold_1= 50\n",
    "threshold_2= 150\n",
    "crimes_50 = London_crime_counts[London_crime_counts['Count'] >= threshold_1]\n",
    "crimes_150 = London_crime_counts[London_crime_counts['Count'] >= threshold_2]"
   ]
  },
  {
   "cell_type": "code",
   "execution_count": null,
   "id": "5ce43091-2731-43d5-b625-89f98c603e97",
   "metadata": {},
   "outputs": [],
   "source": [
    "# Each Crime data \n",
    "Theft = Crime_data.loc[Crime_data[\"Crime type\"].isin([\"Other theft\", \"Theft from the person\", \"Shoplifting\", \n",
    "                                                      \"Bicycle theft\", \"Vehicle crime\", \"Robbery\"])]\n",
    "\n",
    "Violence_Sexual_offences = Crime_data.loc[Crime_data[\"Crime type\"] == \"Violence and sexual offences\"]\n",
    "\n",
    "Anti_social_Behavior = Crime_data.loc[Crime_data[\"Crime type\"] == \"Anti-social behaviour\"]\n",
    "\n",
    "Drugs = Crime_data.loc[Crime_data[\"Crime type\"] == \"Drugs\"]\n",
    "\n",
    "Public_order = Crime_data.loc[Crime_data[\"Crime type\"] == \"Public order\"]\n",
    "\n",
    "Criminal_damage = Crime_data.loc[Crime_data[\"Crime type\"] == \"Criminal damage and arson\"]\n",
    "\n",
    "Burglary = Crime_data.loc[Crime_data[\"Crime type\"] == \"Burglary\"]\n",
    "\n",
    "Other_crimes = Crime_data.loc[Crime_data[\"Crime type\"] == \"Other crime\"]\n",
    "\n",
    "Possession_of_weapons = Crime_data.loc[Crime_data[\"Crime type\"] == \"Possession of weapons\"]"
   ]
  },
  {
   "cell_type": "code",
   "execution_count": null,
   "id": "725b982f-50ec-4370-a811-2686d52854f5",
   "metadata": {},
   "outputs": [],
   "source": [
    "# Define the threshold\n",
    "threshold = 10\n",
    "# Function to find high crime hotspots\n",
    "def get_high_crime_hotspots(data, threshold):\n",
    "    # Group by Latitude and Longitude and count crimes\n",
    "    hotspots = data.groupby([\"Latitude\", \"Longitude\", 'LSOA code']).size().reset_index(name=\"Count\")\n",
    "    # Filter by threshold\n",
    "    high_crime_hotspots = hotspots[hotspots[\"Count\"] > threshold]\n",
    "    return high_crime_hotspots\n",
    "# Get high crime hotspots for each category\n",
    "theft_hotspots = get_high_crime_hotspots(Theft, threshold)\n",
    "violence_hotspots = get_high_crime_hotspots(Violence_Sexual_offences, threshold)\n",
    "anti_social_hotspots = get_high_crime_hotspots(Anti_social_Behavior, threshold)\n",
    "drugs_hotspots = get_high_crime_hotspots(Drugs, threshold)\n",
    "public_order_hotspots = get_high_crime_hotspots(Public_order, threshold)\n",
    "criminal_damage_hotspots = get_high_crime_hotspots(Criminal_damage, threshold)\n",
    "burglary_hotspots = get_high_crime_hotspots(Burglary, threshold)\n",
    "other_crime_hotspots = get_high_crime_hotspots(Other_crimes, threshold)\n",
    "weapons_hotspots = get_high_crime_hotspots(Possession_of_weapons, threshold)"
   ]
  },
  {
   "cell_type": "code",
   "execution_count": null,
   "id": "06f1096e-b96b-42d4-9c58-de5a685a4714",
   "metadata": {},
   "outputs": [],
   "source": [
    "# Create a Folium map centered on London\n",
    "london_map = folium.Map(location=[51.5118200, -0.089299], zoom_start=15)\n",
    "\n",
    "# Function to add crime hotspots to the map\n",
    "def add_crime_points(data, map_object, color, group_name):\n",
    "    marker_cluster = MarkerCluster(name=group_name).add_to(map_object)\n",
    "    for _, row in data.iterrows():\n",
    "        folium.CircleMarker(\n",
    "            location=[row['Latitude'], row['Longitude']],\n",
    "            radius=5,\n",
    "            color=color,\n",
    "            fill=True,\n",
    "            fill_color=color,\n",
    "            fill_opacity=0.6,\n",
    "            popup=f\"Count: {row['Count']}\"\n",
    "        ).add_to(marker_cluster)\n",
    "\n",
    "# Add crimes with threshold >= 50\n",
    "add_crime_points(crimes_50, london_map, color='lightblue', group_name='Crimes >= 50')\n",
    "# Add crimes with threshold >= 150\n",
    "add_crime_points(crimes_150, london_map, color='darkred', group_name='Crimes >= 150')\n",
    "# Add hotspots for each crime type\n",
    "add_crime_points(theft_hotspots, london_map, color='blue', group_name='Theft Hotspots')\n",
    "add_crime_points(violence_hotspots, london_map, color='red', group_name='Violence Hotspots')\n",
    "add_crime_points(anti_social_hotspots, london_map, color='green', group_name='Anti-Social Behavior Hotspots')\n",
    "add_crime_points(drugs_hotspots, london_map, color='purple', group_name='Drugs Hotspots')\n",
    "add_crime_points(public_order_hotspots, london_map, color='orange', group_name='Public Order Hotspots')\n",
    "add_crime_points(criminal_damage_hotspots, london_map, color='cyan', group_name='Criminal Damage Hotspots')\n",
    "add_crime_points(burglary_hotspots, london_map, color='brown', group_name='Burglary Hotspots')\n",
    "add_crime_points(other_crime_hotspots, london_map, color='pink', group_name='Other Crimes Hotspots')\n",
    "add_crime_points(weapons_hotspots, london_map, color='yellow', group_name='Weapons Possession Hotspots')"
   ]
  },
  {
   "cell_type": "code",
   "execution_count": null,
   "id": "f9131519-f019-40e3-aab3-0b0c1bf3f909",
   "metadata": {},
   "outputs": [],
   "source": [
    "city_boundary = City_of_London.to_crs(\"EPSG:4326\")\n",
    "city_boundary_ = city_boundary.to_json()\n",
    "London = folium.GeoJson(\n",
    "    city_boundary_,\n",
    "    name=\"City of London Boundary\",\n",
    "    style_function=lambda feature: {\n",
    "        'fillColor': 'none',\n",
    "        'color': 'black',\n",
    "        'weight': 2,\n",
    "    }\n",
    ").add_to(london_map)\n",
    "\n",
    "# Add a layer control to toggle groups and boundary\n",
    "folium.LayerControl(collapsed=False).add_to(london_map)"
   ]
  },
  {
   "cell_type": "code",
   "execution_count": null,
   "id": "3084e285-add4-491d-8536-66cb12b6742f",
   "metadata": {},
   "outputs": [],
   "source": [
    "# Add a title using HTML\n",
    "title_html = '''\n",
    "<div style=\"position: fixed; \n",
    "            top: 10px; left: 50%; transform: translate(-50%, 0);\n",
    "            font-size: 24px; font-weight: bold; color: black;\n",
    "            border: 2px solid grey; border-radius: 5px;\">\n",
    "    Crime Hotspots in the City of London\n",
    "</div>\n",
    "'''\n",
    "\n",
    "london_map.get_root().html.add_child(folium.Element(title_html))"
   ]
  },
  {
   "cell_type": "code",
   "execution_count": null,
   "id": "e9a7f9a5-5a7f-445a-a8eb-4958aede3666",
   "metadata": {},
   "outputs": [],
   "source": [
    "# Save and display the map\n",
    "london_map.save(\"london_crime_map.html\")\n",
    "london_map"
   ]
  },
  {
   "cell_type": "markdown",
   "id": "75eba950-1969-46ec-84ff-5b2d8a6a7db0",
   "metadata": {},
   "source": [
    "## Predicting crime hotspots in the city of London using Random Forest Regression."
   ]
  },
  {
   "cell_type": "markdown",
   "id": "f5e273a0-df51-42cd-9d27-7170c969d51d",
   "metadata": {},
   "source": [
    "**Predicting future hotspots**\n",
    "\n",
    "To predict crime hotspots, crime data is grouped based on the spatial coordinates (latitude and longitude), month, and year of the crime's occurrence. Then, the data is split into training and testing sets for modelling."
   ]
  },
  {
   "cell_type": "code",
   "execution_count": null,
   "id": "0b17a9bd-8c56-48c4-84df-4d2b7a2fc2a8",
   "metadata": {},
   "outputs": [],
   "source": [
    "London_crime_counts = London_city_crimes.groupby(['Latitude', 'Longitude', 'Month', 'Year']).size().reset_index(name='Count')"
   ]
  },
  {
   "cell_type": "code",
   "execution_count": null,
   "id": "3663eafd-ab9c-4551-b60e-d7d47d668d1b",
   "metadata": {},
   "outputs": [],
   "source": [
    "# Group data and prepare for modeling \n",
    "X = London_crime_counts[['Latitude', 'Longitude']]\n",
    "y = London_crime_counts['Count']"
   ]
  },
  {
   "cell_type": "code",
   "execution_count": null,
   "id": "9a7c4adf-a575-421a-999f-d4e0575fb427",
   "metadata": {},
   "outputs": [],
   "source": [
    "X_train, X_test, y_train, y_test = train_test_split(X, y, test_size=0.2, random_state=42)"
   ]
  },
  {
   "cell_type": "code",
   "execution_count": null,
   "id": "7ea05298-aec1-4ec1-81b2-6050c284fbcf",
   "metadata": {},
   "outputs": [],
   "source": [
    "from sklearn.ensemble import RandomForestRegressor\n",
    "from sklearn.model_selection import train_test_split\n",
    "from sklearn.metrics import mean_squared_error, mean_absolute_error, r2_score, explained_variance_score, median_absolute_error, max_error"
   ]
  },
  {
   "cell_type": "code",
   "execution_count": null,
   "id": "55fbd105-8587-47ad-8b0c-a5e92affed79",
   "metadata": {},
   "outputs": [],
   "source": [
    "Rf_model = RandomForestRegressor(n_estimators=100, random_state=42)"
   ]
  },
  {
   "cell_type": "code",
   "execution_count": null,
   "id": "361c6368-54b4-4b82-b7f4-c91aaf0ba60f",
   "metadata": {},
   "outputs": [],
   "source": [
    "Rf_model.fit(X_train, y_train)"
   ]
  },
  {
   "cell_type": "code",
   "execution_count": null,
   "id": "daac35d6-c73f-431c-bb5e-eb2e27cb1681",
   "metadata": {},
   "outputs": [],
   "source": [
    "Rf_predictions = Rf_model.predict(X_test)"
   ]
  },
  {
   "cell_type": "code",
   "execution_count": null,
   "id": "552208b4-ffdc-4531-a101-d01e015e0ddf",
   "metadata": {},
   "outputs": [],
   "source": [
    "Rf_mse = mean_squared_error(y_test, Rf_predictions)\n",
    "Rf_mse"
   ]
  },
  {
   "cell_type": "code",
   "execution_count": null,
   "id": "afd3ff87-ed15-449b-923f-b4a4d8df3392",
   "metadata": {},
   "outputs": [],
   "source": [
    "Rf_mae = mean_absolute_error(y_test, Rf_predictions)\n",
    "Rf_mae"
   ]
  },
  {
   "cell_type": "code",
   "execution_count": null,
   "id": "7aa2e5d0-a607-475a-b54f-f302f8d314a2",
   "metadata": {},
   "outputs": [],
   "source": [
    "Rf_r2 = r2_score(y_test, Rf_predictions)\n",
    "Rf_r2 "
   ]
  },
  {
   "cell_type": "code",
   "execution_count": null,
   "id": "cdfc038a-5864-4202-8766-a0f1ddbe6895",
   "metadata": {},
   "outputs": [],
   "source": [
    "Rf_explained_variance = explained_variance_score(y_test, Rf_predictions)\n",
    "Rf_explained_variance"
   ]
  },
  {
   "cell_type": "code",
   "execution_count": null,
   "id": "74f174de-db80-4f6a-a0dc-fdae7478de61",
   "metadata": {},
   "outputs": [],
   "source": [
    "# Combine predicted counts with corresponding locations\n",
    "Rf_predicted = pd.DataFrame({'Latitude': X_test['Latitude'], 'Longitude': X_test['Longitude'], 'RF_Predicted_Count': Rf_predictions})\n",
    "\n",
    "# Visualize the predicted hotspots using Folium\n",
    "Rf_crimemap = folium.Map(location=[51.5118200, -0.089299], zoom_start=15.1)\n",
    "Rf_marker_cluster = MarkerCluster().add_to(Rf_crimemap)\n",
    "\n",
    "# Iterate through each predicted record and add a CircleMarker to the MarkerCluster\n",
    "for index, row in Rf_predicted.iterrows():\n",
    "    radius = 10\n",
    "    color = 'green'  # Using green for Random Forest predictions\n",
    "    \n",
    "    folium.CircleMarker(location=[row['Latitude'], row['Longitude']],\n",
    "                        radius=radius,\n",
    "                        color=color,\n",
    "                        fill=True,\n",
    "                        fill_color=color,\n",
    "                        fill_opacity=0.5,\n",
    "                        popup=f\"RF Predicted Hotspot: {row['Latitude']}, {row['Longitude']}\\nCrime Count: {row['RF_Predicted_Count']}\").add_to(Rf_marker_cluster)"
   ]
  },
  {
   "cell_type": "code",
   "execution_count": null,
   "id": "f3b518b8-3fb3-4454-8c24-87d5b11e6204",
   "metadata": {},
   "outputs": [],
   "source": [
    "# Add predictions to test data\n",
    "X_test['Predicted Count'] = Rf_predictions\n",
    "\n",
    "threshold = 5\n",
    "# Filter high hotspots for visualization\n",
    "hotspots = X_test[X_test['Predicted Count'] > threshold]\n",
    "\n",
    "# Plot in Folium\n",
    "london_map = folium.Map(location=[51.5118200, -0.089299], zoom_start=15)\n",
    "for _, row in hotspots.iterrows():\n",
    "    folium.CircleMarker(\n",
    "        location=[row['Latitude'], row['Longitude']],\n",
    "        radius=row['Predicted Count'] / 5,  # Scaled radius\n",
    "        color='red',\n",
    "        fill=True,\n",
    "        fill_opacity=0.6,\n",
    "        popup=f\"Predicted Crimes: {row['Predicted Count']}\"\n",
    "    ).add_to(london_map)"
   ]
  },
  {
   "cell_type": "code",
   "execution_count": null,
   "id": "e73dd5f4-4db6-4c70-bae4-a4ca23d3fd9d",
   "metadata": {},
   "outputs": [],
   "source": [
    "London = folium.GeoJson(\n",
    "    city_boundary_,\n",
    "    name=\"City of London Boundary\",\n",
    "    style_function=lambda feature: {\n",
    "        'fillColor': 'none',\n",
    "        'color': 'black',\n",
    "        'weight': 2,\n",
    "    }\n",
    ").add_to(london_map)\n",
    "\n",
    "# Add a layer control to toggle groups and boundary\n",
    "folium.LayerControl(collapsed=False).add_to(london_map)"
   ]
  },
  {
   "cell_type": "code",
   "execution_count": null,
   "id": "ecf57a5a-3f8b-4862-aea3-bc07bf9dd3fe",
   "metadata": {},
   "outputs": [],
   "source": [
    "london_map"
   ]
  },
  {
   "cell_type": "code",
   "execution_count": null,
   "id": "29f942f3-fd37-44c1-bd50-c9b4de99e585",
   "metadata": {},
   "outputs": [],
   "source": [
    "london_map.save(\"Locations_of_predicted_highCrimes.html\")"
   ]
  },
  {
   "cell_type": "code",
   "execution_count": null,
   "id": "29ab72bf-bf4b-4e61-bbc9-dfb8bbfee3fb",
   "metadata": {},
   "outputs": [],
   "source": []
  }
 ],
 "metadata": {
  "kernelspec": {
   "display_name": "Python 3 (ipykernel)",
   "language": "python",
   "name": "python3"
  },
  "language_info": {
   "codemirror_mode": {
    "name": "ipython",
    "version": 3
   },
   "file_extension": ".py",
   "mimetype": "text/x-python",
   "name": "python",
   "nbconvert_exporter": "python",
   "pygments_lexer": "ipython3",
   "version": "3.12.3"
  }
 },
 "nbformat": 4,
 "nbformat_minor": 5
}
